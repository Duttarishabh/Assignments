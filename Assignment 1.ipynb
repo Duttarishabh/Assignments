{
 "cells": [
  {
   "cell_type": "code",
   "execution_count": 1,
   "id": "45c20e81",
   "metadata": {},
   "outputs": [
    {
     "name": "stdout",
     "output_type": "stream",
     "text": [
      "1\n",
      "2\n",
      "3\n",
      "4\n",
      "5\n",
      "6\n",
      "7\n",
      "8\n",
      "9\n"
     ]
    }
   ],
   "source": [
    "#Q1. Explain with an example each when to use a for loop and a while loop.\n",
    "for i in range(1,10):\n",
    "    print(i)\n",
    "#we use for loop when we know the number of times we have to iterate the loop."
   ]
  },
  {
   "cell_type": "code",
   "execution_count": 2,
   "id": "b42ec771",
   "metadata": {},
   "outputs": [
    {
     "name": "stdout",
     "output_type": "stream",
     "text": [
      "0\n",
      "1\n",
      "2\n",
      "3\n",
      "4\n",
      "5\n",
      "6\n",
      "7\n",
      "8\n",
      "9\n",
      "10\n"
     ]
    }
   ],
   "source": [
    "i=0\n",
    "while i<=10:\n",
    "    print(i)\n",
    "    i=i+1\n",
    "#while  loop is use best when we don't know the iteration, as it depends more on the condition."
   ]
  },
  {
   "cell_type": "code",
   "execution_count": null,
   "id": "0d66ab6c",
   "metadata": {},
   "outputs": [],
   "source": [
    "\"\"\"\"Write a python program to print the sum and product of the first 10 natural numbers using for\n",
    "and while loop.\"\"\"\""
   ]
  },
  {
   "cell_type": "code",
   "execution_count": 1,
   "id": "c9d15a65",
   "metadata": {},
   "outputs": [
    {
     "name": "stdout",
     "output_type": "stream",
     "text": [
      "1 1\n",
      "3 2\n",
      "6 6\n",
      "10 24\n",
      "15 120\n",
      "21 720\n",
      "28 5040\n",
      "36 40320\n",
      "45 362880\n",
      "55 3628800\n"
     ]
    }
   ],
   "source": [
    "sum=0\n",
    "prod=1\n",
    "for i in range(1,11):\n",
    "        sum=sum+i\n",
    "        prod=prod*i\n",
    "        print(sum, prod)\n",
    "    "
   ]
  },
  {
   "cell_type": "code",
   "execution_count": 10,
   "id": "48cfac4d",
   "metadata": {},
   "outputs": [
    {
     "name": "stdout",
     "output_type": "stream",
     "text": [
      "1 1\n",
      "3 2\n",
      "6 6\n",
      "10 24\n",
      "15 120\n",
      "21 720\n",
      "28 5040\n",
      "36 40320\n",
      "45 362880\n",
      "55 3628800\n"
     ]
    }
   ],
   "source": [
    "sum=0\n",
    "prod=1\n",
    "i=1\n",
    "while i<11:\n",
    "    sum+=i\n",
    "    prod=prod*i\n",
    "    print(sum,prod)\n",
    "    i=i+1\n",
    "    "
   ]
  },
  {
   "cell_type": "code",
   "execution_count": 11,
   "id": "7c1db951",
   "metadata": {},
   "outputs": [
    {
     "data": {
      "text/plain": [
       "'Create a python program to compute the electricity bill for a household.\\nQ4. Create a list of numbers from 1 to 100. Use for loop and while loop to calculate the cube of each\\nnumber and if the cube of that number is divisible by 4 or 5 then append that number in a list and print\\nthat list.\\nThe per-unit charges in rupees are as follows: For the first 100 units, the user will be charged Rs. 4.5 per\\nunit, for the next 100 units, the user will be charged Rs. 6 per unit, and for the next 100 units, the user will\\nbe charged Rs. 10 per unit, After 300 units and above the user will be charged Rs. 20 per unit.\\n\\n\\nYou are required to take the units of electricity consumed in a month from the user as input.\\n\\n\\nYour program must pass this test case: when the unit of electricity consumed by the user in a month is\\n310, the total electricity bill should be 2250.'"
      ]
     },
     "execution_count": 11,
     "metadata": {},
     "output_type": "execute_result"
    }
   ],
   "source": [
    "\"\"\"Create a python program to compute the electricity bill for a household.\n",
    "Q4. Create a list of numbers from 1 to 100. Use for loop and while loop to calculate the cube of each\n",
    "number and if the cube of that number is divisible by 4 or 5 then append that number in a list and print\n",
    "that list.\n",
    "The per-unit charges in rupees are as follows: For the first 100 units, the user will be charged Rs. 4.5 per\n",
    "unit, for the next 100 units, the user will be charged Rs. 6 per unit, and for the next 100 units, the user will\n",
    "be charged Rs. 10 per unit, After 300 units and above the user will be charged Rs. 20 per unit.\n",
    "\n",
    "\n",
    "You are required to take the units of electricity consumed in a month from the user as input.\n",
    "\n",
    "\n",
    "Your program must pass this test case: when the unit of electricity consumed by the user in a month is\n",
    "310, the total electricity bill should be 2250.\"\"\""
   ]
  },
  {
   "cell_type": "code",
   "execution_count": 33,
   "id": "612ad5d5",
   "metadata": {},
   "outputs": [
    {
     "name": "stdout",
     "output_type": "stream",
     "text": [
      "Enter the number of electricity units consumed in a month: 250\n",
      "Total electricity bill for 250 units is: Rs. 1550.0\n",
      "Numbers from 1 to 100 whose cubes are divisible by 4 or 5: [2, 4, 5, 6, 8, 10, 12, 14, 15, 16, 18, 20, 22, 24, 25, 26, 28, 30, 32, 34, 35, 36, 38, 40, 42, 44, 45, 46, 48, 50, 52, 54, 55, 56, 58, 60, 62, 64, 65, 66, 68, 70, 72, 74, 75, 76, 78, 80, 82, 84, 85, 86, 88, 90, 92, 94, 95, 96, 98, 100]\n"
     ]
    }
   ],
   "source": [
    "# Input the number of electricity units consumed\n",
    "units_consumed = int(input(\"Enter the number of electricity units consumed in a month: \"))\n",
    "\n",
    "# Calculating the electricity bill\n",
    "if units_consumed <= 100:\n",
    "    bill = units_consumed * 4.5\n",
    "elif units_consumed <= 200:\n",
    "    bill = (100 * 4.5) + (units_consumed - 100) * 6\n",
    "elif units_consumed <= 300:\n",
    "    bill = (100 * 4.5) + (100 * 6) + (units_consumed - 200) * 10\n",
    "else:\n",
    "    bill = (100 * 4.5) + (100 * 6) + (100 * 10) + (units_consumed - 300) * 20\n",
    "\n",
    "# Printing the total bill\n",
    "print(f\"Total electricity bill for {units_consumed} units is: Rs. {bill}\")\n",
    "\n",
    "# Part 2: Calculating cubes of numbers from 1 to 100 divisible by 4 or 5\n",
    "numbers = []\n",
    "for i in range(1, 101):\n",
    "    cube = i ** 3\n",
    "    if cube % 4 == 0 or cube % 5 == 0:\n",
    "        numbers.append(i)\n",
    "\n",
    "# Printing the list of numbers whose cubes are divisible by 4 or 5\n",
    "print(f\"Numbers from 1 to 100 whose cubes are divisible by 4 or 5: {numbers}\")\n"
   ]
  },
  {
   "cell_type": "code",
   "execution_count": 42,
   "id": "62500100",
   "metadata": {},
   "outputs": [
    {
     "name": "stdout",
     "output_type": "stream",
     "text": [
      "I\n",
      "a\n",
      "o\n",
      "e\n",
      "o\n",
      "e\n",
      "a\n",
      "a\n",
      "a\n",
      "i\n",
      "e\n",
      "i\n",
      "Total number of vowels: 12\n"
     ]
    }
   ],
   "source": [
    "vowel = (\"a\", \"e\", \"i\", \"o\", \"u\", \"A\", \"E\", \"I\", \"O\", \"U\")  # Tuple of vowels\n",
    "s = \"I want to become a data scientist\"  # String to check vowels in\n",
    "count = 0  # Initialize count\n",
    "\n",
    "for i in s:  # Iterate through each character in the string\n",
    "    if i in vowel:  # Check if the character is a vowel (in the tuple)\n",
    "        print(i)  # Print the vowel\n",
    "        count += 1  # Increment the count\n",
    "\n",
    "print(f\"Total number of vowels: {count}\")\n"
   ]
  },
  {
   "cell_type": "code",
   "execution_count": null,
   "id": "57709fd4",
   "metadata": {},
   "outputs": [],
   "source": []
  },
  {
   "cell_type": "code",
   "execution_count": null,
   "id": "442809b3",
   "metadata": {},
   "outputs": [],
   "source": []
  }
 ],
 "metadata": {
  "kernelspec": {
   "display_name": "Python 3 (ipykernel)",
   "language": "python",
   "name": "python3"
  },
  "language_info": {
   "codemirror_mode": {
    "name": "ipython",
    "version": 3
   },
   "file_extension": ".py",
   "mimetype": "text/x-python",
   "name": "python",
   "nbconvert_exporter": "python",
   "pygments_lexer": "ipython3",
   "version": "3.10.9"
  }
 },
 "nbformat": 4,
 "nbformat_minor": 5
}
