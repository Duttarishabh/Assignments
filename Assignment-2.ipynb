{
 "cells": [
  {
   "cell_type": "code",
   "execution_count": 48,
   "id": "ecfce3fb",
   "metadata": {},
   "outputs": [],
   "source": [
    "#Which keyword is used to create a function? Create a function to return a list of odd numbers in the\n",
    "#range of 1 to 25.\n",
    "#Ans. def keyword is used to create the function in python.\n",
    "def odd():\n",
    "    l=[]\n",
    "    for i in range(1,26):\n",
    "        if i % 2!=0:\n",
    "            l.append(i)\n",
    "    return l\n",
    "   \n",
    "    "
   ]
  },
  {
   "cell_type": "code",
   "execution_count": 49,
   "id": "b4a8b9dc",
   "metadata": {},
   "outputs": [
    {
     "data": {
      "text/plain": [
       "[1, 3, 5, 7, 9, 11, 13, 15, 17, 19, 21, 23, 25]"
      ]
     },
     "execution_count": 49,
     "metadata": {},
     "output_type": "execute_result"
    }
   ],
   "source": [
    "odd()"
   ]
  },
  {
   "cell_type": "code",
   "execution_count": 50,
   "id": "e7aae376",
   "metadata": {},
   "outputs": [],
   "source": [
    "# Why *args and **kwargs is used in some functions? Create a function each for *args and **kwargs\n",
    "#to demonstrate their use.\n",
    "# Ans. If we want to give ample number of arguments in the function, we can do it with the help of*args\n",
    "def args(*args):\n",
    "    return args"
   ]
  },
  {
   "cell_type": "code",
   "execution_count": 51,
   "id": "2e7b3dc2",
   "metadata": {},
   "outputs": [
    {
     "data": {
      "text/plain": [
       "(1, 2, 3, 4, 5, 6)"
      ]
     },
     "execution_count": 51,
     "metadata": {},
     "output_type": "execute_result"
    }
   ],
   "source": [
    "args(1,2,3,4,5,6)"
   ]
  },
  {
   "cell_type": "code",
   "execution_count": 52,
   "id": "fb24d056",
   "metadata": {},
   "outputs": [],
   "source": [
    "\"\"\"kwargs is used if a user want a value in the key value pairs.\"\"\"\n",
    "def kwargs(*kwargs):\n",
    "    return kwargs"
   ]
  },
  {
   "cell_type": "code",
   "execution_count": 54,
   "id": "a3a3abe3",
   "metadata": {},
   "outputs": [
    {
     "data": {
      "text/plain": [
       "('a', [1, 2, 3, 4, 5], 'rishabh', 'dutta')"
      ]
     },
     "execution_count": 54,
     "metadata": {},
     "output_type": "execute_result"
    }
   ],
   "source": [
    "kwargs(\"a\",[1,2,3,4,5],\"rishabh\",\"dutta\")"
   ]
  },
  {
   "cell_type": "code",
   "execution_count": 85,
   "id": "1e0d0c0d",
   "metadata": {},
   "outputs": [
    {
     "name": "stdout",
     "output_type": "stream",
     "text": [
      "2\n",
      "3\n",
      "6\n",
      "8\n",
      "10\n"
     ]
    }
   ],
   "source": [
    "\"\"\"\"What is an iterator in python? Name the method used to initialise the iterator object and the method\n",
    "used for iteration. Use these methods to print the first five elements of the given list [2, 4, 6, 8, 10, 12, 14,\n",
    "16, 18, 20].\"\"\"\n",
    "#Ans. Iter() function in pyhton that tracks the current position in the sequence and provides the next element on each call.\n",
    "# The method used to inialize the the iterator object is Iter().\n",
    "list=[2,3,6,8,10,12,14,16,18,20]\n",
    "it=iter(list)\n",
    "for i in range(5):\n",
    "    print(next(it))"
   ]
  },
  {
   "cell_type": "code",
   "execution_count": null,
   "id": "7be4f022",
   "metadata": {},
   "outputs": [],
   "source": [
    "#Generator functions are used to optimize the memory. Yield is used in a place of return to create a generator fucntion.\n"
   ]
  },
  {
   "cell_type": "code",
   "execution_count": null,
   "id": "a282bbfa",
   "metadata": {},
   "outputs": [],
   "source": [
    "\"\"\"Create a generator function for prime numbers less than 1000. Use the next() method to print the\n",
    "first 20 prime numbers.\"\"\""
   ]
  },
  {
   "cell_type": "code",
   "execution_count": 5,
   "id": "c71c5a03",
   "metadata": {},
   "outputs": [
    {
     "name": "stdout",
     "output_type": "stream",
     "text": [
      "2\n",
      "3\n",
      "5\n",
      "7\n",
      "11\n",
      "13\n",
      "17\n",
      "19\n",
      "23\n",
      "29\n",
      "31\n",
      "37\n",
      "41\n",
      "43\n",
      "47\n",
      "53\n",
      "59\n",
      "61\n",
      "67\n",
      "71\n"
     ]
    }
   ],
   "source": [
    "def prime_generator():\n",
    "    for num in range(2, 1000):  # Start from 2, as 1 is not a prime\n",
    "        is_prime = True\n",
    "        for i in range(2, int(num ** 0.5) + 1):\n",
    "            if num % i == 0:\n",
    "                is_prime = False\n",
    "                break\n",
    "        if is_prime:\n",
    "            yield num\n",
    "\n",
    "# Creating the generator\n",
    "prime_gen = prime_generator()\n",
    "\n",
    "# Using next() to get the first 20 prime numbers\n",
    "for _ in range(20):  # Loop 20 times\n",
    "    print(next(prime_gen))\n",
    "    "
   ]
  },
  {
   "cell_type": "code",
   "execution_count": 24,
   "id": "8b8f3d1f",
   "metadata": {},
   "outputs": [],
   "source": [
    "#Write a python program to print the first 10 Fibonacci numbers using a while loop.\n",
    "def test_fib1():\n",
    "    a,b=0,1\n",
    "    while True:\n",
    "        yield a\n",
    "        a,b=b,a+b\n"
   ]
  },
  {
   "cell_type": "code",
   "execution_count": 25,
   "id": "d726a439",
   "metadata": {},
   "outputs": [],
   "source": [
    "fib=test_fib1()"
   ]
  },
  {
   "cell_type": "code",
   "execution_count": 26,
   "id": "7bb527aa",
   "metadata": {},
   "outputs": [
    {
     "name": "stdout",
     "output_type": "stream",
     "text": [
      "0\n",
      "1\n",
      "1\n",
      "2\n",
      "3\n",
      "5\n",
      "8\n",
      "13\n",
      "21\n",
      "34\n"
     ]
    }
   ],
   "source": [
    "for i in range(10):\n",
    "    print(next(fib))"
   ]
  },
  {
   "cell_type": "code",
   "execution_count": 3,
   "id": "501123af",
   "metadata": {},
   "outputs": [],
   "source": [
    "#Write a List Comprehension to iterate through the given string: ‘pwskills’. Expected output: ['p', 'w', 's', 'k', 'i', 'l', 'l', 's']\n",
    "s=\"pwskills\""
   ]
  },
  {
   "cell_type": "code",
   "execution_count": 4,
   "id": "c2ab9940",
   "metadata": {},
   "outputs": [
    {
     "data": {
      "text/plain": [
       "['p', 'w', 's', 'k', 'i', 'l', 'l', 's']"
      ]
     },
     "execution_count": 4,
     "metadata": {},
     "output_type": "execute_result"
    }
   ],
   "source": [
    "[i for i in s]"
   ]
  },
  {
   "cell_type": "code",
   "execution_count": 13,
   "id": "c66fc4d5",
   "metadata": {},
   "outputs": [
    {
     "name": "stdout",
     "output_type": "stream",
     "text": [
      "enter the number124\n",
      "number is not palindrome\n"
     ]
    }
   ],
   "source": [
    "# to check whether the number is palindrome or not\n",
    "i =int(input(\"enter the number\"))\n",
    "rev=0\n",
    "x=i\n",
    "while (i>0):\n",
    "         rev=(rev*10)+ i % 10\n",
    "         i=i//10\n",
    "if(rev==x):\n",
    "         print(\"the number is palindrome\")\n",
    "else:\n",
    "         print(\"number is not palindrome\")\n",
    "         \n",
    "         \n",
    "         \n",
    "       "
   ]
  },
  {
   "cell_type": "code",
   "execution_count": 32,
   "id": "ac55e395",
   "metadata": {},
   "outputs": [
    {
     "name": "stdout",
     "output_type": "stream",
     "text": [
      "the list of the odd numbers [1, 3, 5, 7, 9, 11, 13, 15, 17, 19, 21, 23, 25, 27, 29, 31, 33, 35, 37, 39, 41, 43, 45, 47, 49, 51, 53, 55, 57, 59, 61, 63, 65, 67, 69, 71, 73, 75, 77, 79, 81, 83, 85, 87, 89, 91, 93, 95, 97, 99]\n"
     ]
    }
   ],
   "source": [
    "odd_numbers=[i for i in  range(1,101) if  i% 2!=0]\n",
    "print(\"the list of the odd numbers\",odd_numbers)\n",
    "    \n",
    "    "
   ]
  },
  {
   "cell_type": "code",
   "execution_count": null,
   "id": "72e12aa5",
   "metadata": {},
   "outputs": [],
   "source": []
  }
 ],
 "metadata": {
  "kernelspec": {
   "display_name": "Python 3 (ipykernel)",
   "language": "python",
   "name": "python3"
  },
  "language_info": {
   "codemirror_mode": {
    "name": "ipython",
    "version": 3
   },
   "file_extension": ".py",
   "mimetype": "text/x-python",
   "name": "python",
   "nbconvert_exporter": "python",
   "pygments_lexer": "ipython3",
   "version": "3.10.9"
  }
 },
 "nbformat": 4,
 "nbformat_minor": 5
}
